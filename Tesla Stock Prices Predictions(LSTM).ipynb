{
 "cells": [
  {
   "cell_type": "raw",
   "id": "fca5f053",
   "metadata": {
    "papermill": {
     "duration": 0.006213,
     "end_time": "2025-01-07T03:35:03.513584",
     "exception": false,
     "start_time": "2025-01-07T03:35:03.507371",
     "status": "completed"
    },
    "tags": []
   },
   "source": [
    "Reading the data"
   ]
  },
  {
   "cell_type": "code",
   "execution_count": 1,
   "id": "ea8b765f",
   "metadata": {
    "execution": {
     "iopub.execute_input": "2025-01-07T03:35:03.525884Z",
     "iopub.status.busy": "2025-01-07T03:35:03.525477Z",
     "iopub.status.idle": "2025-01-07T03:35:03.973939Z",
     "shell.execute_reply": "2025-01-07T03:35:03.972708Z"
    },
    "papermill": {
     "duration": 0.456653,
     "end_time": "2025-01-07T03:35:03.975806",
     "exception": false,
     "start_time": "2025-01-07T03:35:03.519153",
     "status": "completed"
    },
    "tags": []
   },
   "outputs": [
    {
     "data": {
      "text/html": [
       "<div>\n",
       "<style scoped>\n",
       "    .dataframe tbody tr th:only-of-type {\n",
       "        vertical-align: middle;\n",
       "    }\n",
       "\n",
       "    .dataframe tbody tr th {\n",
       "        vertical-align: top;\n",
       "    }\n",
       "\n",
       "    .dataframe thead th {\n",
       "        text-align: right;\n",
       "    }\n",
       "</style>\n",
       "<table border=\"1\" class=\"dataframe\">\n",
       "  <thead>\n",
       "    <tr style=\"text-align: right;\">\n",
       "      <th></th>\n",
       "      <th>Unnamed: 0</th>\n",
       "      <th>Date</th>\n",
       "      <th>Open</th>\n",
       "      <th>High</th>\n",
       "      <th>Low</th>\n",
       "      <th>Close</th>\n",
       "      <th>Adj Close</th>\n",
       "      <th>Volume</th>\n",
       "    </tr>\n",
       "  </thead>\n",
       "  <tbody>\n",
       "    <tr>\n",
       "      <th>0</th>\n",
       "      <td>0</td>\n",
       "      <td>6/29/10</td>\n",
       "      <td>1.266667</td>\n",
       "      <td>1.666667</td>\n",
       "      <td>1.169333</td>\n",
       "      <td>1.592667</td>\n",
       "      <td>1.592667</td>\n",
       "      <td>281494500</td>\n",
       "    </tr>\n",
       "    <tr>\n",
       "      <th>1</th>\n",
       "      <td>1</td>\n",
       "      <td>6/30/10</td>\n",
       "      <td>1.719333</td>\n",
       "      <td>2.028000</td>\n",
       "      <td>1.553333</td>\n",
       "      <td>1.588667</td>\n",
       "      <td>1.588667</td>\n",
       "      <td>257806500</td>\n",
       "    </tr>\n",
       "    <tr>\n",
       "      <th>2</th>\n",
       "      <td>2</td>\n",
       "      <td>7/1/10</td>\n",
       "      <td>1.666667</td>\n",
       "      <td>1.728000</td>\n",
       "      <td>1.351333</td>\n",
       "      <td>1.464000</td>\n",
       "      <td>1.464000</td>\n",
       "      <td>123282000</td>\n",
       "    </tr>\n",
       "    <tr>\n",
       "      <th>3</th>\n",
       "      <td>3</td>\n",
       "      <td>7/2/10</td>\n",
       "      <td>1.533333</td>\n",
       "      <td>1.540000</td>\n",
       "      <td>1.247333</td>\n",
       "      <td>1.280000</td>\n",
       "      <td>1.280000</td>\n",
       "      <td>77097000</td>\n",
       "    </tr>\n",
       "    <tr>\n",
       "      <th>4</th>\n",
       "      <td>4</td>\n",
       "      <td>7/6/10</td>\n",
       "      <td>1.333333</td>\n",
       "      <td>1.333333</td>\n",
       "      <td>1.055333</td>\n",
       "      <td>1.074000</td>\n",
       "      <td>1.074000</td>\n",
       "      <td>103003500</td>\n",
       "    </tr>\n",
       "    <tr>\n",
       "      <th>...</th>\n",
       "      <td>...</td>\n",
       "      <td>...</td>\n",
       "      <td>...</td>\n",
       "      <td>...</td>\n",
       "      <td>...</td>\n",
       "      <td>...</td>\n",
       "      <td>...</td>\n",
       "      <td>...</td>\n",
       "    </tr>\n",
       "    <tr>\n",
       "      <th>3632</th>\n",
       "      <td>3632</td>\n",
       "      <td>12/3/24</td>\n",
       "      <td>351.799988</td>\n",
       "      <td>355.690002</td>\n",
       "      <td>348.200012</td>\n",
       "      <td>351.420013</td>\n",
       "      <td>351.420013</td>\n",
       "      <td>58267200</td>\n",
       "    </tr>\n",
       "    <tr>\n",
       "      <th>3633</th>\n",
       "      <td>3633</td>\n",
       "      <td>12/4/24</td>\n",
       "      <td>353.000000</td>\n",
       "      <td>358.100006</td>\n",
       "      <td>348.600006</td>\n",
       "      <td>357.929993</td>\n",
       "      <td>357.929993</td>\n",
       "      <td>50810900</td>\n",
       "    </tr>\n",
       "    <tr>\n",
       "      <th>3634</th>\n",
       "      <td>3634</td>\n",
       "      <td>12/5/24</td>\n",
       "      <td>359.869995</td>\n",
       "      <td>375.429993</td>\n",
       "      <td>359.500000</td>\n",
       "      <td>369.489990</td>\n",
       "      <td>369.489990</td>\n",
       "      <td>81403600</td>\n",
       "    </tr>\n",
       "    <tr>\n",
       "      <th>3635</th>\n",
       "      <td>3635</td>\n",
       "      <td>12/6/24</td>\n",
       "      <td>377.420013</td>\n",
       "      <td>389.489990</td>\n",
       "      <td>370.799988</td>\n",
       "      <td>389.220001</td>\n",
       "      <td>389.220001</td>\n",
       "      <td>81455800</td>\n",
       "    </tr>\n",
       "    <tr>\n",
       "      <th>3636</th>\n",
       "      <td>3636</td>\n",
       "      <td>12/9/24</td>\n",
       "      <td>397.609985</td>\n",
       "      <td>404.799988</td>\n",
       "      <td>378.010010</td>\n",
       "      <td>389.790008</td>\n",
       "      <td>389.790008</td>\n",
       "      <td>96359200</td>\n",
       "    </tr>\n",
       "  </tbody>\n",
       "</table>\n",
       "<p>3637 rows × 8 columns</p>\n",
       "</div>"
      ],
      "text/plain": [
       "      Unnamed: 0     Date        Open        High         Low       Close  \\\n",
       "0              0  6/29/10    1.266667    1.666667    1.169333    1.592667   \n",
       "1              1  6/30/10    1.719333    2.028000    1.553333    1.588667   \n",
       "2              2   7/1/10    1.666667    1.728000    1.351333    1.464000   \n",
       "3              3   7/2/10    1.533333    1.540000    1.247333    1.280000   \n",
       "4              4   7/6/10    1.333333    1.333333    1.055333    1.074000   \n",
       "...          ...      ...         ...         ...         ...         ...   \n",
       "3632        3632  12/3/24  351.799988  355.690002  348.200012  351.420013   \n",
       "3633        3633  12/4/24  353.000000  358.100006  348.600006  357.929993   \n",
       "3634        3634  12/5/24  359.869995  375.429993  359.500000  369.489990   \n",
       "3635        3635  12/6/24  377.420013  389.489990  370.799988  389.220001   \n",
       "3636        3636  12/9/24  397.609985  404.799988  378.010010  389.790008   \n",
       "\n",
       "       Adj Close     Volume  \n",
       "0       1.592667  281494500  \n",
       "1       1.588667  257806500  \n",
       "2       1.464000  123282000  \n",
       "3       1.280000   77097000  \n",
       "4       1.074000  103003500  \n",
       "...          ...        ...  \n",
       "3632  351.420013   58267200  \n",
       "3633  357.929993   50810900  \n",
       "3634  369.489990   81403600  \n",
       "3635  389.220001   81455800  \n",
       "3636  389.790008   96359200  \n",
       "\n",
       "[3637 rows x 8 columns]"
      ]
     },
     "execution_count": 1,
     "metadata": {},
     "output_type": "execute_result"
    }
   ],
   "source": [
    "import pandas as pd\n",
    "import numpy as np\n",
    "data=pd.read_csv(\"/kaggle/input/tesla-stock-data-2024/TESLA.csv\")\n",
    "data"
   ]
  },
  {
   "cell_type": "raw",
   "id": "6f1acc8e",
   "metadata": {
    "papermill": {
     "duration": 0.006409,
     "end_time": "2025-01-07T03:35:03.989579",
     "exception": false,
     "start_time": "2025-01-07T03:35:03.983170",
     "status": "completed"
    },
    "tags": []
   },
   "source": [
    "sorting dates"
   ]
  },
  {
   "cell_type": "code",
   "execution_count": 2,
   "id": "96d38fcf",
   "metadata": {
    "execution": {
     "iopub.execute_input": "2025-01-07T03:35:04.002061Z",
     "iopub.status.busy": "2025-01-07T03:35:04.001497Z",
     "iopub.status.idle": "2025-01-07T03:35:04.022691Z",
     "shell.execute_reply": "2025-01-07T03:35:04.021365Z"
    },
    "papermill": {
     "duration": 0.029665,
     "end_time": "2025-01-07T03:35:04.024689",
     "exception": false,
     "start_time": "2025-01-07T03:35:03.995024",
     "status": "completed"
    },
    "tags": []
   },
   "outputs": [],
   "source": [
    "data['Date'] = pd.to_datetime(data['Date'],format='%m/%d/%y')\n",
    "data.set_index('Date', inplace=True)"
   ]
  },
  {
   "cell_type": "code",
   "execution_count": 3,
   "id": "cd821548",
   "metadata": {
    "execution": {
     "iopub.execute_input": "2025-01-07T03:35:04.037363Z",
     "iopub.status.busy": "2025-01-07T03:35:04.036996Z",
     "iopub.status.idle": "2025-01-07T03:35:04.047296Z",
     "shell.execute_reply": "2025-01-07T03:35:04.046031Z"
    },
    "papermill": {
     "duration": 0.018595,
     "end_time": "2025-01-07T03:35:04.049102",
     "exception": false,
     "start_time": "2025-01-07T03:35:04.030507",
     "status": "completed"
    },
    "tags": []
   },
   "outputs": [],
   "source": [
    "data=data.drop('Unnamed: 0',axis=1)"
   ]
  },
  {
   "cell_type": "raw",
   "id": "8cc4360a",
   "metadata": {
    "papermill": {
     "duration": 0.005206,
     "end_time": "2025-01-07T03:35:04.059869",
     "exception": false,
     "start_time": "2025-01-07T03:35:04.054663",
     "status": "completed"
    },
    "tags": []
   },
   "source": [
    "Independent Variable"
   ]
  },
  {
   "cell_type": "code",
   "execution_count": 4,
   "id": "68e0ddca",
   "metadata": {
    "execution": {
     "iopub.execute_input": "2025-01-07T03:35:04.071808Z",
     "iopub.status.busy": "2025-01-07T03:35:04.071389Z",
     "iopub.status.idle": "2025-01-07T03:35:04.078365Z",
     "shell.execute_reply": "2025-01-07T03:35:04.077397Z"
    },
    "papermill": {
     "duration": 0.014808,
     "end_time": "2025-01-07T03:35:04.079963",
     "exception": false,
     "start_time": "2025-01-07T03:35:04.065155",
     "status": "completed"
    },
    "tags": []
   },
   "outputs": [],
   "source": [
    "data=data[['Close']]"
   ]
  },
  {
   "cell_type": "raw",
   "id": "bb52fbba",
   "metadata": {
    "papermill": {
     "duration": 0.005154,
     "end_time": "2025-01-07T03:35:04.090866",
     "exception": false,
     "start_time": "2025-01-07T03:35:04.085712",
     "status": "completed"
    },
    "tags": []
   },
   "source": [
    "Data preprocessing using MinMaxScaler"
   ]
  },
  {
   "cell_type": "code",
   "execution_count": 5,
   "id": "73f63a08",
   "metadata": {
    "execution": {
     "iopub.execute_input": "2025-01-07T03:35:04.103061Z",
     "iopub.status.busy": "2025-01-07T03:35:04.102625Z",
     "iopub.status.idle": "2025-01-07T03:35:05.406579Z",
     "shell.execute_reply": "2025-01-07T03:35:05.405398Z"
    },
    "papermill": {
     "duration": 1.312279,
     "end_time": "2025-01-07T03:35:05.408529",
     "exception": false,
     "start_time": "2025-01-07T03:35:04.096250",
     "status": "completed"
    },
    "tags": []
   },
   "outputs": [],
   "source": [
    "from sklearn.preprocessing import MinMaxScaler\n",
    "mmc=MinMaxScaler(feature_range=(0,1))\n",
    "scaled_data=mmc.fit_transform(data)"
   ]
  },
  {
   "cell_type": "raw",
   "id": "106280f1",
   "metadata": {
    "papermill": {
     "duration": 0.00527,
     "end_time": "2025-01-07T03:35:05.419507",
     "exception": false,
     "start_time": "2025-01-07T03:35:05.414237",
     "status": "completed"
    },
    "tags": []
   },
   "source": [
    "Timesteps"
   ]
  },
  {
   "cell_type": "code",
   "execution_count": 6,
   "id": "578acb85",
   "metadata": {
    "execution": {
     "iopub.execute_input": "2025-01-07T03:35:05.432492Z",
     "iopub.status.busy": "2025-01-07T03:35:05.431993Z",
     "iopub.status.idle": "2025-01-07T03:35:05.436659Z",
     "shell.execute_reply": "2025-01-07T03:35:05.435576Z"
    },
    "papermill": {
     "duration": 0.013242,
     "end_time": "2025-01-07T03:35:05.438398",
     "exception": false,
     "start_time": "2025-01-07T03:35:05.425156",
     "status": "completed"
    },
    "tags": []
   },
   "outputs": [],
   "source": [
    "time_steps=60"
   ]
  },
  {
   "cell_type": "raw",
   "id": "7af505d6",
   "metadata": {
    "papermill": {
     "duration": 0.005051,
     "end_time": "2025-01-07T03:35:05.449123",
     "exception": false,
     "start_time": "2025-01-07T03:35:05.444072",
     "status": "completed"
    },
    "tags": []
   },
   "source": [
    "Generating time series sequences"
   ]
  },
  {
   "cell_type": "code",
   "execution_count": 7,
   "id": "6a8a5361",
   "metadata": {
    "execution": {
     "iopub.execute_input": "2025-01-07T03:35:05.461058Z",
     "iopub.status.busy": "2025-01-07T03:35:05.460603Z",
     "iopub.status.idle": "2025-01-07T03:35:15.756973Z",
     "shell.execute_reply": "2025-01-07T03:35:15.755924Z"
    },
    "papermill": {
     "duration": 10.304393,
     "end_time": "2025-01-07T03:35:15.758800",
     "exception": false,
     "start_time": "2025-01-07T03:35:05.454407",
     "status": "completed"
    },
    "tags": []
   },
   "outputs": [],
   "source": [
    "import tensorflow\n",
    "from tensorflow.keras.preprocessing.sequence import TimeseriesGenerator\n",
    "generator=TimeseriesGenerator(scaled_data,scaled_data,length=time_steps,batch_size=32)"
   ]
  },
  {
   "cell_type": "raw",
   "id": "280da8ac",
   "metadata": {
    "papermill": {
     "duration": 0.005395,
     "end_time": "2025-01-07T03:35:15.770398",
     "exception": false,
     "start_time": "2025-01-07T03:35:15.765003",
     "status": "completed"
    },
    "tags": []
   },
   "source": [
    "training and test data"
   ]
  },
  {
   "cell_type": "code",
   "execution_count": 8,
   "id": "db6142d8",
   "metadata": {
    "execution": {
     "iopub.execute_input": "2025-01-07T03:35:15.783448Z",
     "iopub.status.busy": "2025-01-07T03:35:15.782711Z",
     "iopub.status.idle": "2025-01-07T03:35:15.787627Z",
     "shell.execute_reply": "2025-01-07T03:35:15.786570Z"
    },
    "papermill": {
     "duration": 0.013107,
     "end_time": "2025-01-07T03:35:15.789396",
     "exception": false,
     "start_time": "2025-01-07T03:35:15.776289",
     "status": "completed"
    },
    "tags": []
   },
   "outputs": [],
   "source": [
    "train_size=int(len(scaled_data)*0.8)\n",
    "train_data=scaled_data[:train_size]\n",
    "test_data=scaled_data[train_size:]"
   ]
  },
  {
   "cell_type": "raw",
   "id": "20db508e",
   "metadata": {
    "papermill": {
     "duration": 0.005421,
     "end_time": "2025-01-07T03:35:15.801025",
     "exception": false,
     "start_time": "2025-01-07T03:35:15.795604",
     "status": "completed"
    },
    "tags": []
   },
   "source": [
    "time series sequences for train and test data"
   ]
  },
  {
   "cell_type": "code",
   "execution_count": 9,
   "id": "751bfdfd",
   "metadata": {
    "execution": {
     "iopub.execute_input": "2025-01-07T03:35:15.815481Z",
     "iopub.status.busy": "2025-01-07T03:35:15.815008Z",
     "iopub.status.idle": "2025-01-07T03:35:15.820953Z",
     "shell.execute_reply": "2025-01-07T03:35:15.819606Z"
    },
    "papermill": {
     "duration": 0.015284,
     "end_time": "2025-01-07T03:35:15.823108",
     "exception": false,
     "start_time": "2025-01-07T03:35:15.807824",
     "status": "completed"
    },
    "tags": []
   },
   "outputs": [],
   "source": [
    "train_generator=TimeseriesGenerator(train_data,train_data,length=time_steps,batch_size=32)\n",
    "test_generator=TimeseriesGenerator(test_data,test_data,length=time_steps,batch_size=32)"
   ]
  },
  {
   "cell_type": "raw",
   "id": "72a48769",
   "metadata": {
    "papermill": {
     "duration": 0.005185,
     "end_time": "2025-01-07T03:35:15.834144",
     "exception": false,
     "start_time": "2025-01-07T03:35:15.828959",
     "status": "completed"
    },
    "tags": []
   },
   "source": [
    "applying lstm's"
   ]
  },
  {
   "cell_type": "code",
   "execution_count": 10,
   "id": "e8f550a6",
   "metadata": {
    "execution": {
     "iopub.execute_input": "2025-01-07T03:35:15.846332Z",
     "iopub.status.busy": "2025-01-07T03:35:15.845932Z",
     "iopub.status.idle": "2025-01-07T03:35:15.977114Z",
     "shell.execute_reply": "2025-01-07T03:35:15.975894Z"
    },
    "papermill": {
     "duration": 0.139492,
     "end_time": "2025-01-07T03:35:15.979066",
     "exception": false,
     "start_time": "2025-01-07T03:35:15.839574",
     "status": "completed"
    },
    "tags": []
   },
   "outputs": [],
   "source": [
    "from tensorflow.keras.models import Sequential\n",
    "from tensorflow.keras.layers import LSTM,Dropout,Dense,Input\n",
    "model=Sequential()\n",
    "model.add(Input(shape=(time_steps,1)))\n",
    "model.add(LSTM(50,activation='relu'))\n",
    "model.add(Dense(1))"
   ]
  },
  {
   "cell_type": "raw",
   "id": "c8150e05",
   "metadata": {
    "papermill": {
     "duration": 0.005111,
     "end_time": "2025-01-07T03:35:15.989637",
     "exception": false,
     "start_time": "2025-01-07T03:35:15.984526",
     "status": "completed"
    },
    "tags": []
   },
   "source": [
    "training the model"
   ]
  },
  {
   "cell_type": "code",
   "execution_count": 11,
   "id": "11ec39ae",
   "metadata": {
    "execution": {
     "iopub.execute_input": "2025-01-07T03:35:16.002643Z",
     "iopub.status.busy": "2025-01-07T03:35:16.002277Z",
     "iopub.status.idle": "2025-01-07T03:37:19.185687Z",
     "shell.execute_reply": "2025-01-07T03:37:19.184605Z"
    },
    "papermill": {
     "duration": 123.192196,
     "end_time": "2025-01-07T03:37:19.187446",
     "exception": false,
     "start_time": "2025-01-07T03:35:15.995250",
     "status": "completed"
    },
    "scrolled": true,
    "tags": []
   },
   "outputs": [
    {
     "name": "stdout",
     "output_type": "stream",
     "text": [
      "Epoch 1/50\n",
      "\u001b[1m 3/90\u001b[0m \u001b[37m━━━━━━━━━━━━━━━━━━━━\u001b[0m \u001b[1m2s\u001b[0m 25ms/step - loss: 0.0012    "
     ]
    },
    {
     "name": "stderr",
     "output_type": "stream",
     "text": [
      "/usr/local/lib/python3.10/dist-packages/keras/src/trainers/data_adapters/py_dataset_adapter.py:121: UserWarning: Your `PyDataset` class should call `super().__init__(**kwargs)` in its constructor. `**kwargs` can include `workers`, `use_multiprocessing`, `max_queue_size`. Do not pass these arguments to `fit()`, as they will be ignored.\n",
      "  self._warn_if_super_not_called()\n"
     ]
    },
    {
     "name": "stdout",
     "output_type": "stream",
     "text": [
      "\u001b[1m90/90\u001b[0m \u001b[32m━━━━━━━━━━━━━━━━━━━━\u001b[0m\u001b[37m\u001b[0m \u001b[1m5s\u001b[0m 30ms/step - loss: 0.0091 - val_loss: 0.0083\n",
      "Epoch 2/50\n",
      "\u001b[1m90/90\u001b[0m \u001b[32m━━━━━━━━━━━━━━━━━━━━\u001b[0m\u001b[37m\u001b[0m \u001b[1m2s\u001b[0m 26ms/step - loss: 0.0024 - val_loss: 0.0020\n",
      "Epoch 3/50\n",
      "\u001b[1m90/90\u001b[0m \u001b[32m━━━━━━━━━━━━━━━━━━━━\u001b[0m\u001b[37m\u001b[0m \u001b[1m2s\u001b[0m 26ms/step - loss: 3.5350e-04 - val_loss: 0.0016\n",
      "Epoch 4/50\n",
      "\u001b[1m90/90\u001b[0m \u001b[32m━━━━━━━━━━━━━━━━━━━━\u001b[0m\u001b[37m\u001b[0m \u001b[1m3s\u001b[0m 28ms/step - loss: 3.0659e-04 - val_loss: 0.0016\n",
      "Epoch 5/50\n",
      "\u001b[1m90/90\u001b[0m \u001b[32m━━━━━━━━━━━━━━━━━━━━\u001b[0m\u001b[37m\u001b[0m \u001b[1m2s\u001b[0m 27ms/step - loss: 1.7867e-04 - val_loss: 0.0016\n",
      "Epoch 6/50\n",
      "\u001b[1m90/90\u001b[0m \u001b[32m━━━━━━━━━━━━━━━━━━━━\u001b[0m\u001b[37m\u001b[0m \u001b[1m2s\u001b[0m 27ms/step - loss: 2.1512e-04 - val_loss: 0.0018\n",
      "Epoch 7/50\n",
      "\u001b[1m90/90\u001b[0m \u001b[32m━━━━━━━━━━━━━━━━━━━━\u001b[0m\u001b[37m\u001b[0m \u001b[1m2s\u001b[0m 26ms/step - loss: 4.7060e-04 - val_loss: 0.0015\n",
      "Epoch 8/50\n",
      "\u001b[1m90/90\u001b[0m \u001b[32m━━━━━━━━━━━━━━━━━━━━\u001b[0m\u001b[37m\u001b[0m \u001b[1m3s\u001b[0m 28ms/step - loss: 1.6613e-04 - val_loss: 0.0016\n",
      "Epoch 9/50\n",
      "\u001b[1m90/90\u001b[0m \u001b[32m━━━━━━━━━━━━━━━━━━━━\u001b[0m\u001b[37m\u001b[0m \u001b[1m3s\u001b[0m 28ms/step - loss: 2.8858e-04 - val_loss: 0.0021\n",
      "Epoch 10/50\n",
      "\u001b[1m90/90\u001b[0m \u001b[32m━━━━━━━━━━━━━━━━━━━━\u001b[0m\u001b[37m\u001b[0m \u001b[1m2s\u001b[0m 27ms/step - loss: 1.6297e-04 - val_loss: 0.0018\n",
      "Epoch 11/50\n",
      "\u001b[1m90/90\u001b[0m \u001b[32m━━━━━━━━━━━━━━━━━━━━\u001b[0m\u001b[37m\u001b[0m \u001b[1m2s\u001b[0m 27ms/step - loss: 1.9384e-04 - val_loss: 0.0014\n",
      "Epoch 12/50\n",
      "\u001b[1m90/90\u001b[0m \u001b[32m━━━━━━━━━━━━━━━━━━━━\u001b[0m\u001b[37m\u001b[0m \u001b[1m3s\u001b[0m 30ms/step - loss: 4.9293e-04 - val_loss: 0.0013\n",
      "Epoch 13/50\n",
      "\u001b[1m90/90\u001b[0m \u001b[32m━━━━━━━━━━━━━━━━━━━━\u001b[0m\u001b[37m\u001b[0m \u001b[1m2s\u001b[0m 27ms/step - loss: 1.0907e-04 - val_loss: 0.0014\n",
      "Epoch 14/50\n",
      "\u001b[1m90/90\u001b[0m \u001b[32m━━━━━━━━━━━━━━━━━━━━\u001b[0m\u001b[37m\u001b[0m \u001b[1m2s\u001b[0m 25ms/step - loss: 3.2787e-04 - val_loss: 0.0016\n",
      "Epoch 15/50\n",
      "\u001b[1m90/90\u001b[0m \u001b[32m━━━━━━━━━━━━━━━━━━━━\u001b[0m\u001b[37m\u001b[0m \u001b[1m2s\u001b[0m 26ms/step - loss: 3.9191e-04 - val_loss: 0.0024\n",
      "Epoch 16/50\n",
      "\u001b[1m90/90\u001b[0m \u001b[32m━━━━━━━━━━━━━━━━━━━━\u001b[0m\u001b[37m\u001b[0m \u001b[1m2s\u001b[0m 26ms/step - loss: 3.9497e-04 - val_loss: 0.0012\n",
      "Epoch 17/50\n",
      "\u001b[1m90/90\u001b[0m \u001b[32m━━━━━━━━━━━━━━━━━━━━\u001b[0m\u001b[37m\u001b[0m \u001b[1m2s\u001b[0m 26ms/step - loss: 2.9820e-04 - val_loss: 0.0014\n",
      "Epoch 18/50\n",
      "\u001b[1m90/90\u001b[0m \u001b[32m━━━━━━━━━━━━━━━━━━━━\u001b[0m\u001b[37m\u001b[0m \u001b[1m2s\u001b[0m 26ms/step - loss: 1.0377e-04 - val_loss: 0.0015\n",
      "Epoch 19/50\n",
      "\u001b[1m90/90\u001b[0m \u001b[32m━━━━━━━━━━━━━━━━━━━━\u001b[0m\u001b[37m\u001b[0m \u001b[1m2s\u001b[0m 26ms/step - loss: 1.9083e-04 - val_loss: 0.0011\n",
      "Epoch 20/50\n",
      "\u001b[1m90/90\u001b[0m \u001b[32m━━━━━━━━━━━━━━━━━━━━\u001b[0m\u001b[37m\u001b[0m \u001b[1m2s\u001b[0m 26ms/step - loss: 1.9202e-04 - val_loss: 0.0011\n",
      "Epoch 21/50\n",
      "\u001b[1m90/90\u001b[0m \u001b[32m━━━━━━━━━━━━━━━━━━━━\u001b[0m\u001b[37m\u001b[0m \u001b[1m3s\u001b[0m 28ms/step - loss: 1.9353e-04 - val_loss: 0.0015\n",
      "Epoch 22/50\n",
      "\u001b[1m90/90\u001b[0m \u001b[32m━━━━━━━━━━━━━━━━━━━━\u001b[0m\u001b[37m\u001b[0m \u001b[1m2s\u001b[0m 27ms/step - loss: 3.5751e-04 - val_loss: 0.0013\n",
      "Epoch 23/50\n",
      "\u001b[1m90/90\u001b[0m \u001b[32m━━━━━━━━━━━━━━━━━━━━\u001b[0m\u001b[37m\u001b[0m \u001b[1m2s\u001b[0m 27ms/step - loss: 4.3370e-04 - val_loss: 0.0013\n",
      "Epoch 24/50\n",
      "\u001b[1m90/90\u001b[0m \u001b[32m━━━━━━━━━━━━━━━━━━━━\u001b[0m\u001b[37m\u001b[0m \u001b[1m2s\u001b[0m 27ms/step - loss: 2.5115e-04 - val_loss: 0.0011\n",
      "Epoch 25/50\n",
      "\u001b[1m90/90\u001b[0m \u001b[32m━━━━━━━━━━━━━━━━━━━━\u001b[0m\u001b[37m\u001b[0m \u001b[1m3s\u001b[0m 28ms/step - loss: 1.6131e-04 - val_loss: 0.0012\n",
      "Epoch 26/50\n",
      "\u001b[1m90/90\u001b[0m \u001b[32m━━━━━━━━━━━━━━━━━━━━\u001b[0m\u001b[37m\u001b[0m \u001b[1m2s\u001b[0m 27ms/step - loss: 2.3512e-04 - val_loss: 0.0018\n",
      "Epoch 27/50\n",
      "\u001b[1m90/90\u001b[0m \u001b[32m━━━━━━━━━━━━━━━━━━━━\u001b[0m\u001b[37m\u001b[0m \u001b[1m2s\u001b[0m 26ms/step - loss: 1.6197e-04 - val_loss: 0.0017\n",
      "Epoch 28/50\n",
      "\u001b[1m90/90\u001b[0m \u001b[32m━━━━━━━━━━━━━━━━━━━━\u001b[0m\u001b[37m\u001b[0m \u001b[1m2s\u001b[0m 26ms/step - loss: 2.2338e-04 - val_loss: 0.0017\n",
      "Epoch 29/50\n",
      "\u001b[1m90/90\u001b[0m \u001b[32m━━━━━━━━━━━━━━━━━━━━\u001b[0m\u001b[37m\u001b[0m \u001b[1m2s\u001b[0m 27ms/step - loss: 2.3056e-04 - val_loss: 0.0013\n",
      "Epoch 30/50\n",
      "\u001b[1m90/90\u001b[0m \u001b[32m━━━━━━━━━━━━━━━━━━━━\u001b[0m\u001b[37m\u001b[0m \u001b[1m2s\u001b[0m 26ms/step - loss: 1.6267e-04 - val_loss: 9.8471e-04\n",
      "Epoch 31/50\n",
      "\u001b[1m90/90\u001b[0m \u001b[32m━━━━━━━━━━━━━━━━━━━━\u001b[0m\u001b[37m\u001b[0m \u001b[1m2s\u001b[0m 25ms/step - loss: 1.8126e-04 - val_loss: 9.6004e-04\n",
      "Epoch 32/50\n",
      "\u001b[1m90/90\u001b[0m \u001b[32m━━━━━━━━━━━━━━━━━━━━\u001b[0m\u001b[37m\u001b[0m \u001b[1m2s\u001b[0m 25ms/step - loss: 1.8177e-04 - val_loss: 0.0011\n",
      "Epoch 33/50\n",
      "\u001b[1m90/90\u001b[0m \u001b[32m━━━━━━━━━━━━━━━━━━━━\u001b[0m\u001b[37m\u001b[0m \u001b[1m2s\u001b[0m 25ms/step - loss: 3.6153e-04 - val_loss: 8.9958e-04\n",
      "Epoch 34/50\n",
      "\u001b[1m90/90\u001b[0m \u001b[32m━━━━━━━━━━━━━━━━━━━━\u001b[0m\u001b[37m\u001b[0m \u001b[1m2s\u001b[0m 27ms/step - loss: 2.9940e-04 - val_loss: 8.9359e-04\n",
      "Epoch 35/50\n",
      "\u001b[1m90/90\u001b[0m \u001b[32m━━━━━━━━━━━━━━━━━━━━\u001b[0m\u001b[37m\u001b[0m \u001b[1m2s\u001b[0m 26ms/step - loss: 1.5641e-04 - val_loss: 0.0011\n",
      "Epoch 36/50\n",
      "\u001b[1m90/90\u001b[0m \u001b[32m━━━━━━━━━━━━━━━━━━━━\u001b[0m\u001b[37m\u001b[0m \u001b[1m2s\u001b[0m 26ms/step - loss: 1.8225e-04 - val_loss: 9.2493e-04\n",
      "Epoch 37/50\n",
      "\u001b[1m90/90\u001b[0m \u001b[32m━━━━━━━━━━━━━━━━━━━━\u001b[0m\u001b[37m\u001b[0m \u001b[1m2s\u001b[0m 26ms/step - loss: 1.9997e-04 - val_loss: 8.6464e-04\n",
      "Epoch 38/50\n",
      "\u001b[1m90/90\u001b[0m \u001b[32m━━━━━━━━━━━━━━━━━━━━\u001b[0m\u001b[37m\u001b[0m \u001b[1m2s\u001b[0m 26ms/step - loss: 1.2154e-04 - val_loss: 9.4718e-04\n",
      "Epoch 39/50\n",
      "\u001b[1m90/90\u001b[0m \u001b[32m━━━━━━━━━━━━━━━━━━━━\u001b[0m\u001b[37m\u001b[0m \u001b[1m3s\u001b[0m 29ms/step - loss: 1.3555e-04 - val_loss: 8.6390e-04\n",
      "Epoch 40/50\n",
      "\u001b[1m90/90\u001b[0m \u001b[32m━━━━━━━━━━━━━━━━━━━━\u001b[0m\u001b[37m\u001b[0m \u001b[1m2s\u001b[0m 26ms/step - loss: 1.1854e-04 - val_loss: 8.6044e-04\n",
      "Epoch 41/50\n",
      "\u001b[1m90/90\u001b[0m \u001b[32m━━━━━━━━━━━━━━━━━━━━\u001b[0m\u001b[37m\u001b[0m \u001b[1m2s\u001b[0m 26ms/step - loss: 1.3276e-04 - val_loss: 8.8701e-04\n",
      "Epoch 42/50\n",
      "\u001b[1m90/90\u001b[0m \u001b[32m━━━━━━━━━━━━━━━━━━━━\u001b[0m\u001b[37m\u001b[0m \u001b[1m2s\u001b[0m 26ms/step - loss: 1.0939e-04 - val_loss: 8.5021e-04\n",
      "Epoch 43/50\n",
      "\u001b[1m90/90\u001b[0m \u001b[32m━━━━━━━━━━━━━━━━━━━━\u001b[0m\u001b[37m\u001b[0m \u001b[1m2s\u001b[0m 26ms/step - loss: 1.0443e-04 - val_loss: 8.4433e-04\n",
      "Epoch 44/50\n",
      "\u001b[1m90/90\u001b[0m \u001b[32m━━━━━━━━━━━━━━━━━━━━\u001b[0m\u001b[37m\u001b[0m \u001b[1m2s\u001b[0m 25ms/step - loss: 1.2275e-04 - val_loss: 0.0012\n",
      "Epoch 45/50\n",
      "\u001b[1m90/90\u001b[0m \u001b[32m━━━━━━━━━━━━━━━━━━━━\u001b[0m\u001b[37m\u001b[0m \u001b[1m2s\u001b[0m 26ms/step - loss: 1.2745e-04 - val_loss: 0.0011\n",
      "Epoch 46/50\n",
      "\u001b[1m90/90\u001b[0m \u001b[32m━━━━━━━━━━━━━━━━━━━━\u001b[0m\u001b[37m\u001b[0m \u001b[1m2s\u001b[0m 27ms/step - loss: 8.5985e-05 - val_loss: 8.2530e-04\n",
      "Epoch 47/50\n",
      "\u001b[1m90/90\u001b[0m \u001b[32m━━━━━━━━━━━━━━━━━━━━\u001b[0m\u001b[37m\u001b[0m \u001b[1m2s\u001b[0m 27ms/step - loss: 2.7406e-04 - val_loss: 0.0014\n",
      "Epoch 48/50\n",
      "\u001b[1m90/90\u001b[0m \u001b[32m━━━━━━━━━━━━━━━━━━━━\u001b[0m\u001b[37m\u001b[0m \u001b[1m3s\u001b[0m 28ms/step - loss: 1.2256e-04 - val_loss: 0.0015\n",
      "Epoch 49/50\n",
      "\u001b[1m90/90\u001b[0m \u001b[32m━━━━━━━━━━━━━━━━━━━━\u001b[0m\u001b[37m\u001b[0m \u001b[1m2s\u001b[0m 27ms/step - loss: 1.5870e-04 - val_loss: 8.2438e-04\n",
      "Epoch 50/50\n",
      "\u001b[1m90/90\u001b[0m \u001b[32m━━━━━━━━━━━━━━━━━━━━\u001b[0m\u001b[37m\u001b[0m \u001b[1m2s\u001b[0m 26ms/step - loss: 1.4905e-04 - val_loss: 0.0012\n"
     ]
    },
    {
     "data": {
      "text/plain": [
       "<keras.src.callbacks.history.History at 0x7c83783324d0>"
      ]
     },
     "execution_count": 11,
     "metadata": {},
     "output_type": "execute_result"
    }
   ],
   "source": [
    "model.compile(optimizer='adam',loss='mean_squared_error')\n",
    "model.fit(train_generator,epochs=50,validation_data=test_generator)"
   ]
  },
  {
   "cell_type": "raw",
   "id": "1e9ff6b8",
   "metadata": {
    "papermill": {
     "duration": 0.107958,
     "end_time": "2025-01-07T03:37:19.401676",
     "exception": false,
     "start_time": "2025-01-07T03:37:19.293718",
     "status": "completed"
    },
    "tags": []
   },
   "source": [
    "making the predictions"
   ]
  },
  {
   "cell_type": "code",
   "execution_count": 12,
   "id": "4a66c41a",
   "metadata": {
    "execution": {
     "iopub.execute_input": "2025-01-07T03:37:19.639659Z",
     "iopub.status.busy": "2025-01-07T03:37:19.639332Z",
     "iopub.status.idle": "2025-01-07T03:37:20.200484Z",
     "shell.execute_reply": "2025-01-07T03:37:20.198821Z"
    },
    "papermill": {
     "duration": 0.69597,
     "end_time": "2025-01-07T03:37:20.202497",
     "exception": false,
     "start_time": "2025-01-07T03:37:19.506527",
     "status": "completed"
    },
    "tags": []
   },
   "outputs": [
    {
     "name": "stdout",
     "output_type": "stream",
     "text": [
      "\u001b[1m21/21\u001b[0m \u001b[32m━━━━━━━━━━━━━━━━━━━━\u001b[0m\u001b[37m\u001b[0m \u001b[1m1s\u001b[0m 17ms/step\n"
     ]
    }
   ],
   "source": [
    "predictions=model.predict(test_generator)"
   ]
  },
  {
   "cell_type": "raw",
   "id": "a8c1bcda",
   "metadata": {
    "papermill": {
     "duration": 0.102529,
     "end_time": "2025-01-07T03:37:20.468871",
     "exception": false,
     "start_time": "2025-01-07T03:37:20.366342",
     "status": "completed"
    },
    "tags": []
   },
   "source": [
    "converting the predicted and actual values"
   ]
  },
  {
   "cell_type": "code",
   "execution_count": 13,
   "id": "637b79ca",
   "metadata": {
    "execution": {
     "iopub.execute_input": "2025-01-07T03:37:20.676382Z",
     "iopub.status.busy": "2025-01-07T03:37:20.676036Z",
     "iopub.status.idle": "2025-01-07T03:37:20.680808Z",
     "shell.execute_reply": "2025-01-07T03:37:20.679899Z"
    },
    "papermill": {
     "duration": 0.111908,
     "end_time": "2025-01-07T03:37:20.682499",
     "exception": false,
     "start_time": "2025-01-07T03:37:20.570591",
     "status": "completed"
    },
    "tags": []
   },
   "outputs": [],
   "source": [
    "predictions=mmc.inverse_transform(predictions)\n",
    "y_test_actual=mmc.inverse_transform(test_data[time_steps:])"
   ]
  },
  {
   "cell_type": "code",
   "execution_count": 14,
   "id": "439fc512",
   "metadata": {
    "execution": {
     "iopub.execute_input": "2025-01-07T03:37:20.894199Z",
     "iopub.status.busy": "2025-01-07T03:37:20.893841Z",
     "iopub.status.idle": "2025-01-07T03:37:21.271329Z",
     "shell.execute_reply": "2025-01-07T03:37:21.270248Z"
    },
    "papermill": {
     "duration": 0.486246,
     "end_time": "2025-01-07T03:37:21.273200",
     "exception": false,
     "start_time": "2025-01-07T03:37:20.786954",
     "status": "completed"
    },
    "tags": []
   },
   "outputs": [
    {
     "data": {
      "text/plain": [
       "Text(0, 0.5, 'Stock Prices')"
      ]
     },
     "execution_count": 14,
     "metadata": {},
     "output_type": "execute_result"
    },
    {
     "data": {
      "image/png": "[encoded data removed]",
      "text/plain": [
       "<Figure size 1200x600 with 1 Axes>"
      ]
     },
     "metadata": {},
     "output_type": "display_data"
    }
   ],
   "source": [
    "import matplotlib.pyplot as plt\n",
    "plt.figure(figsize=(12,6))\n",
    "plt.plot(y_test_actual,color='blue',label='Actual Tesla Stock Prices')\n",
    "plt.plot(predictions,color='red',label='Predicted Stock Prices')\n",
    "plt.title('Tesla Stock Prices')\n",
    "plt.xlabel('Time')\n",
    "plt.ylabel(\"Stock Prices\")"
   ]
  },
  {
   "cell_type": "code",
   "execution_count": 15,
   "id": "a5b771fa",
   "metadata": {
    "execution": {
     "iopub.execute_input": "2025-01-07T03:37:21.484559Z",
     "iopub.status.busy": "2025-01-07T03:37:21.484207Z",
     "iopub.status.idle": "2025-01-07T03:37:21.583950Z",
     "shell.execute_reply": "2025-01-07T03:37:21.583081Z"
    },
    "papermill": {
     "duration": 0.205355,
     "end_time": "2025-01-07T03:37:21.585627",
     "exception": false,
     "start_time": "2025-01-07T03:37:21.380272",
     "status": "completed"
    },
    "tags": []
   },
   "outputs": [],
   "source": [
    "from sklearn.metrics import r2_score,mean_squared_error\n",
    "accuracy=r2_score(predictions,y_test_actual)\n",
    "mse=mean_squared_error(predictions,y_test_actual)\n",
    "rmse=np.sqrt(mean_squared_error(predictions,y_test_actual))"
   ]
  },
  {
   "cell_type": "code",
   "execution_count": 16,
   "id": "da9d8b1d",
   "metadata": {
    "execution": {
     "iopub.execute_input": "2025-01-07T03:37:21.795078Z",
     "iopub.status.busy": "2025-01-07T03:37:21.794670Z",
     "iopub.status.idle": "2025-01-07T03:37:21.800685Z",
     "shell.execute_reply": "2025-01-07T03:37:21.799642Z"
    },
    "papermill": {
     "duration": 0.113721,
     "end_time": "2025-01-07T03:37:21.802513",
     "exception": false,
     "start_time": "2025-01-07T03:37:21.688792",
     "status": "completed"
    },
    "tags": []
   },
   "outputs": [
    {
     "name": "stdout",
     "output_type": "stream",
     "text": [
      "Accuracy :  0.9166880186640575\n",
      "Mean Squared error :  204.35389733329518\n",
      "Root Mean Squared error :  14.295240373400343\n"
     ]
    }
   ],
   "source": [
    "print(\"Accuracy : \",accuracy)\n",
    "print(\"Mean Squared error : \",mse)\n",
    "print(\"Root Mean Squared error : \",rmse)"
   ]
  }
 ],
 "metadata": {
  "kaggle": {
   "accelerator": "none",
   "dataSources": [
    {
     "datasetId": 6300039,
     "sourceId": 10196151,
     "sourceType": "datasetVersion"
    }
   ],
   "dockerImageVersionId": 30822,
   "isGpuEnabled": false,
   "isInternetEnabled": true,
   "language": "python",
   "sourceType": "notebook"
  },
  "kernelspec": {
   "display_name": "Python 3 (ipykernel)",
   "language": "python",
   "name": "python3"
  },
  "language_info": {
   "codemirror_mode": {
    "name": "ipython",
    "version": 3
   },
   "file_extension": ".py",
   "mimetype": "text/x-python",
   "name": "python",
   "nbconvert_exporter": "python",
   "pygments_lexer": "ipython3",
   "version": "3.12.4"
  },
  "papermill": {
   "default_parameters": {},
   "duration": 142.557103,
   "end_time": "2025-01-07T03:37:23.750812",
   "environment_variables": {},
   "exception": null,
   "input_path": "__notebook__.ipynb",
   "output_path": "__notebook__.ipynb",
   "parameters": {},
   "start_time": "2025-01-07T03:35:01.193709",
   "version": "2.6.0"
  }
 },
 "nbformat": 4,
 "nbformat_minor": 5
}
